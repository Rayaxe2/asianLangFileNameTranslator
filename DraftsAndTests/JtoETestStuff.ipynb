{
 "cells": [
  {
   "cell_type": "code",
   "execution_count": 423,
   "id": "8553c0bc",
   "metadata": {},
   "outputs": [
    {
     "name": "stdout",
     "output_type": "stream",
     "text": [
      "fdsafs\n",
      "hi.sd\n",
      "sadf\n"
     ]
    }
   ],
   "source": [
    "ray = \"fdsafs\"\n",
    "print((ray + os.linesep + ray).rsplit(\"\\n\", 1)[0])\n",
    "ray = \"hi.sd\\nsadf\\nm65\"\n",
    "print(ray.rsplit(\"\\n\", 1)[0])"
   ]
  },
  {
   "cell_type": "code",
   "execution_count": 424,
   "id": "cf878c8b",
   "metadata": {},
   "outputs": [
    {
     "name": "stdout",
     "output_type": "stream",
     "text": [
      "[DRAMA CD] Demon Love DISC 2.03. Motoyuki Fist\n"
     ]
    }
   ],
   "source": [
    "from googletrans import Translator\n",
    "test = \"【Drama CD】修罗场之恋 DISC2.03.收下男友之拳吧！\"\n",
    "translator = Translator()\n",
    "\n",
    "print(translator.translate(test, src='ja', dest='en').text)"
   ]
  },
  {
   "cell_type": "code",
   "execution_count": 425,
   "id": "f42ae69f",
   "metadata": {},
   "outputs": [
    {
     "name": "stdout",
     "output_type": "stream",
     "text": [
      "\n",
      "ray\n",
      "jay\n",
      "\n",
      "moo\n",
      "\n",
      "do\n",
      "['', 'ray', 'jay', 'moo', '', 'do']\n",
      "\n",
      "moo\n",
      "\n",
      "do\n"
     ]
    }
   ],
   "source": [
    "jay = []\n",
    "\n",
    "ray = os.linesep\n",
    "ray += \"ray\"\n",
    "ray += os.linesep\n",
    "ray += \"jay\"\n",
    "\n",
    "jay.append(ray)\n",
    "\n",
    "nay = os.linesep\n",
    "nay += \"moo\"\n",
    "nay += os.linesep\n",
    "nay += os.linesep\n",
    "nay += \"do\"\n",
    "\n",
    "ray = \"\"\n",
    "ray = nay\n",
    "\n",
    "jay.append(ray)\n",
    "\n",
    "print(jay[0] + os.linesep + jay[1])\n",
    "print((jay[0] + jay[1]).splitlines())\n",
    "print(nay)"
   ]
  },
  {
   "cell_type": "code",
   "execution_count": 426,
   "id": "d5ac006b",
   "metadata": {},
   "outputs": [
    {
     "name": "stdout",
     "output_type": "stream",
     "text": [
      "no\n"
     ]
    }
   ],
   "source": [
    "ray = []\n",
    "ray2 = [\"ray\", 2]\n",
    "\n",
    "if ray:\n",
    "    print(\"yo\")\n",
    "if ray2:\n",
    "    print(\"no\")"
   ]
  },
  {
   "cell_type": "code",
   "execution_count": 427,
   "id": "f4c432ac",
   "metadata": {},
   "outputs": [
    {
     "name": "stdout",
     "output_type": "stream",
     "text": [
      "yo\n"
     ]
    }
   ],
   "source": [
    "ray = \"yoyo\"\n",
    "print(ray[:2])"
   ]
  },
  {
   "cell_type": "code",
   "execution_count": 428,
   "id": "5c7c4d94",
   "metadata": {},
   "outputs": [
    {
     "name": "stdout",
     "output_type": "stream",
     "text": [
      "[1, 1, 2]\n",
      "[1, 2]\n"
     ]
    }
   ],
   "source": [
    "ray = [1,1,2]\n",
    "print(ray)\n",
    "ray = list(set(ray))\n",
    "print(ray)"
   ]
  },
  {
   "cell_type": "code",
   "execution_count": 429,
   "id": "88fc2a2b",
   "metadata": {},
   "outputs": [
    {
     "name": "stdout",
     "output_type": "stream",
     "text": [
      "喔 喔 喔 喔 喔 喔 喔 喔 喔 \n"
     ]
    }
   ],
   "source": [
    "line = \"喔 喔 喔 喔 喔 喔 喔 喔 喔 \"\n",
    "line = line.encode('utf-8','ignore').decode(\"utf-8\")\n",
    "#line = bytes(line, 'utf-8').decode('utf-8','ignore').encode(\"utf-8\")\n",
    "print(line)"
   ]
  },
  {
   "cell_type": "code",
   "execution_count": 430,
   "id": "d2d98857",
   "metadata": {},
   "outputs": [
    {
     "ename": "NameError",
     "evalue": "name 'isEnglish' is not defined",
     "output_type": "error",
     "traceback": [
      "\u001b[1;31m---------------------------------------------------------------------------\u001b[0m",
      "\u001b[1;31mNameError\u001b[0m                                 Traceback (most recent call last)",
      "\u001b[1;32m~\\AppData\\Local\\Temp/ipykernel_12992/664278726.py\u001b[0m in \u001b[0;36m<module>\u001b[1;34m\u001b[0m\n\u001b[1;32m----> 1\u001b[1;33m \u001b[1;32mif\u001b[0m \u001b[1;32mnot\u001b[0m \u001b[0misEnglish\u001b[0m\u001b[1;33m(\u001b[0m\u001b[0mfullFilePaths_trans\u001b[0m\u001b[1;33m[\u001b[0m\u001b[0mi\u001b[0m\u001b[1;33m]\u001b[0m\u001b[1;33m)\u001b[0m\u001b[1;33m:\u001b[0m\u001b[1;33m\u001b[0m\u001b[1;33m\u001b[0m\u001b[0m\n\u001b[0m\u001b[0;32m      2\u001b[0m     \u001b[0mprint\u001b[0m\u001b[1;33m(\u001b[0m\u001b[0mfullFilePaths_trans\u001b[0m\u001b[1;33m[\u001b[0m\u001b[0mi\u001b[0m\u001b[1;33m]\u001b[0m\u001b[1;33m.\u001b[0m\u001b[0mencode\u001b[0m\u001b[1;33m(\u001b[0m\u001b[1;34m'utf-8'\u001b[0m\u001b[1;33m,\u001b[0m\u001b[1;34m'ignore'\u001b[0m\u001b[1;33m)\u001b[0m\u001b[1;33m.\u001b[0m\u001b[0mdecode\u001b[0m\u001b[1;33m(\u001b[0m\u001b[1;34m\"utf-8\"\u001b[0m\u001b[1;33m)\u001b[0m\u001b[1;33m)\u001b[0m\u001b[1;33m\u001b[0m\u001b[1;33m\u001b[0m\u001b[0m\n",
      "\u001b[1;31mNameError\u001b[0m: name 'isEnglish' is not defined"
     ]
    }
   ],
   "source": [
    "    if not isEnglish(fullFilePaths_trans[i]):\n",
    "        print(fullFilePaths_trans[i].encode('utf-8','ignore').decode(\"utf-8\"))"
   ]
  },
  {
   "cell_type": "code",
   "execution_count": null,
   "id": "a357b21d",
   "metadata": {},
   "outputs": [
    {
     "name": "stdout",
     "output_type": "stream",
     "text": [
      "DRAMA CD vol5\n"
     ]
    }
   ],
   "source": [
    "from googletrans import Translator\n",
    "test = \"DRAMA CD vol5\"\n",
    "translator = Translator()\n",
    "\n",
    "print(translator.translate(test).text)"
   ]
  },
  {
   "cell_type": "code",
   "execution_count": null,
   "id": "caadd659",
   "metadata": {},
   "outputs": [
    {
     "name": "stdout",
     "output_type": "stream",
     "text": [
      "False\n"
     ]
    }
   ],
   "source": [
    "#!pip install langdetect\n",
    "from langdetect import detect\n",
    "print(detect(\"'爱 书 的 上 上 广 广 广 广 广 剧 CD4 合 集 03\") == \"ja\")"
   ]
  },
  {
   "cell_type": "code",
   "execution_count": null,
   "id": "8748f198",
   "metadata": {},
   "outputs": [],
   "source": []
  },
  {
   "cell_type": "code",
   "execution_count": null,
   "id": "1b6cd537",
   "metadata": {},
   "outputs": [],
   "source": [
    "logPath = \"C:\\\\Users\\\\Rayha\\\\Desktop\" + \"\\\\EngToAsiLangTransLog.txt\"\n",
    "if os.path.exists(logPath):\n",
    "    os.remove(logPath) \n",
    "\n",
    "with open(logPath, 'a+', encoding='utf8') as file: \n",
    "    file.write(\"Yo\")\n",
    "    file.close()"
   ]
  },
  {
   "cell_type": "code",
   "execution_count": null,
   "id": "36811d57",
   "metadata": {},
   "outputs": [],
   "source": [
    "#Install and import google translate API\n",
    "!pip install googletrans==4.0.0-rc1\n",
    "from googletrans import Translator\n",
    "\n",
    "#Imports\n",
    "import os\n",
    "import re\n",
    "\n",
    "#Initialised translator\n",
    "translator = Translator()\n",
    "\n",
    "#Asks for a prefix to temporarily add to the file during renaming - to prevent renaming conflict (no sure if this is unnesasary atm)\n",
    "forbiddenChars = \"<>:\\\"/\\\\|?*\" \n",
    "print(\"A prefix will temporarly be prepended to file names used before renaming them. This prefix will be removed at the end of script. This is to prevent conflict during renaming\")\n",
    "prefix = input(\"Prefix: \")\n",
    "#Checks if prefix has characters that can't be used in file names (using a regular expression)\n",
    "while any(c in forbiddenChars for c in prefix) or prefix == \"\":\n",
    "    #If there are forbidded characters, it will keep asking for a new name\n",
    "    print(\"The Prefix Contains One Of More Forbidden Characters {{ \" + \"<>:\\\"/\\\\|?*\" + \" }}\")\n",
    "    prefix = input(\"Please Select A Different Prefix: \")\n",
    "\n",
    "#Asks the user for a path to do the operations on\n",
    "path = input(\"File Path: \")\n",
    "#If there is no backslash in the path, the bath is not in the windows user path and the path doesn't exist, a new path is requested\n",
    "while \"\\\\\" not in path and \":\\\\Users\" not in path and os.path.isdir(path):\n",
    "    print(\"File Path Invalid\")\n",
    "    path = input(\"Please Select A Different File Path: \")\n",
    "\n",
    "#Gets rid of trailing backslashes or any file names attached to the end of the path\n",
    "if path.split(\"\\\\\")[-1] == \"\" or \".\" in path.split(\"\\\\\")[-1]:\n",
    "    path = path.rsplit(\"\\\\\", 1)[0]\n",
    "\n",
    "#The various arrays of file names are build here, and if duplicates are found after building them with a prefix, a new prefix is requested and the process is repeated\n",
    "duplicatePaths = True\n",
    "while duplicatePaths:\n",
    "    duplicatePaths = False\n",
    "\n",
    "    fullFilePaths = []\n",
    "    fullFilePaths_trans = []\n",
    "    fullFilePaths_trans_pre = []\n",
    "    splitFilePaths_trans_pre = []\n",
    "    \n",
    "    textToTrasnlateChunks = []\n",
    "    textToTrasnlate = \"\"\n",
    "    translatedText = \"\"\n",
    "    \n",
    "    for root, directories, files in os.walk(path):\n",
    "        for file in files:\n",
    "            if len(textToTrasnlate) >= 3000:\n",
    "                textToTrasnlate = textToTrasnlate.rsplit(\"\\n\", 1)[0]\n",
    "                textToTrasnlateChunks.append(textToTrasnlate)\n",
    "                textToTrasnlate = \"\"\n",
    "                \n",
    "            textToTrasnlate += file.rsplit(\".\", 1)[0] + os.linesep\n",
    "            \n",
    "            fullFilePaths.append(os.path.join(root, file))\n",
    "            fullFilePaths_trans.append(root)\n",
    "            fullFilePaths_trans_pre.append(root)\n",
    "    \n",
    "    for chunk in textToTrasnlateChunks:\n",
    "        translatedText += translator.translate(chunk, src='ja', dest='en').text + os.linesep\n",
    "    translatedText += translatedText.rsplit(\"\\n\", 1)[0]\n",
    "    \n",
    "    i = 0\n",
    "    for line in translatedText.splitlines():\n",
    "        #improvement - make sure only mp3 files are selected\n",
    "        fullFilePaths_trans[i] = os.path.join(fullFilePaths_trans[i], (line + \".mp3\"))\n",
    "        fullFilePaths_trans_pre[i] = os.path.join(fullFilePaths_trans_pre[i], (prefix + line + \".mp3\"))\n",
    "        i += 1\n",
    "        \n",
    "    \n",
    "    for fullFilePath_t_p, fullFilePath_t in zip(fullFilePaths_trans_pre, fullFilePaths_trans):\n",
    "        if (fullFilePaths.count(fullFilePath_t_p) > 1  or\n",
    "        fullFilePaths_trans_pre.count(fullFilePath_t_p) > 1  or\n",
    "        fullFilePaths_trans_pre.count(fullFilePath_t) > 1 or\n",
    "        fullFilePaths_trans.count(fullFilePath_t) > 1):\n",
    "            print(\"The Chosen Prefix Causes Conflicts\")\n",
    "            prefix = input(\"Please Select A different Prefix: \")\n",
    "            while any(c in forbiddenChars for c in prefix) or prefix == \"\":\n",
    "                print(\"The Prefix Contains One Of More Forbidden Characters {{ \" + \"[No Text], <, >, :, \\\", /, \\\\, |, ?, *\" + \" }}\")\n",
    "                prefix = input(\"Please Select A Different Prefix: \")\n",
    "            duplicatePaths = True\n",
    "            break\n",
    "\n",
    "for fullPath, fullFilePath_t_p in zip(fullFilePaths, fullFilePaths_trans_pre):\n",
    "    os.rename(fullPath, fullFilePath_t_p)\n",
    "    print(\"Done Prefixing And Translating\")\n",
    "    \n",
    "for fullFilePath_t_p, fullFilePath_t in zip(fullFilePaths_trans_pre, fullFilePaths_trans):\n",
    "    os.rename(fullFilePath_t_p, fullFilePath_t)\n",
    "    print(\"Done De-Prefixing\")"
   ]
  },
  {
   "cell_type": "code",
   "execution_count": null,
   "id": "8971cc03",
   "metadata": {},
   "outputs": [
    {
     "name": "stdout",
     "output_type": "stream",
     "text": [
      "[1, 2, 3, '1', False]\n"
     ]
    }
   ],
   "source": [
    "print([1,2,3] + [\"1\", False])"
   ]
  },
  {
   "cell_type": "code",
   "execution_count": 442,
   "id": "7f7642ff",
   "metadata": {},
   "outputs": [
    {
     "name": "stdout",
     "output_type": "stream",
     "text": [
      "sdf344asf天地方益3権sdfsdf\n"
     ]
    }
   ],
   "source": [
    "#%pip install regex\n",
    "import regex\n",
    "\n",
    "#/+|[ぁ-ゔ]+|[ァ-ヴー]+|[a-zA-Z0-9]+|[ａ-ｚＡ-Ｚ０-９]+|[々〆〤]+/u\n",
    "\n",
    "\n",
    "#The r means that the string is to be treated as a raw string, which means all escape codes will be ignored.\n",
    "pattern = regex.compile(\"(【.*】)\", regex.UNICODE)\n",
    "#([\\p{IsHan}\\p{IsHira}\\p{IsKatakana}]+)\n",
    "#u indicates \"Unicode\",\n",
    "input = u'sdf344a【sfa】sf天地方益3権sdfsdf'\n",
    "output = pattern.sub('', input)\n",
    "print(output)  # Prints: sdf344asfasf(天地方益)3(権)sdfsdf"
   ]
  },
  {
   "cell_type": "code",
   "execution_count": 497,
   "id": "71e142b7",
   "metadata": {},
   "outputs": [
    {
     "name": "stdout",
     "output_type": "stream",
     "text": [
      "False\n"
     ]
    }
   ],
   "source": [
    "import regex as re\n",
    "#([一-龠]|[ぁ-ゔ]|[ぁ-ヴー]|[a-zA-Z0-9]|[ａ-ｚＡ-Ｚ０-９]|[々〆〤])+(】)\n",
    "input = \"バカとテストと召喚獣 ドラマCD「僕と黒子と如月グランドパーク」\" #\"【dRamA】\" #[\\p{Hiragana}\\p{Katakana}\\p{Han}]|[^\\p{Han}]\n",
    "print(True if re.search(\"^【+((.*[\\p{Hiragana}\\p{Katakana}]+.*)|(.*([Dd][Rr][Aa][Mm][Aa]).*))】+\", input) != None else False)  # Prints: sdf344asfasf(天地方益)3(権)sdfsdf\n",
    "#print(re.findall(\"^【+.*([\\p{Hiragana}\\p{Katakana}])+.*】$\", input))"
   ]
  },
  {
   "cell_type": "code",
   "execution_count": 444,
   "id": "bd8537d1",
   "metadata": {},
   "outputs": [
    {
     "name": "stdout",
     "output_type": "stream",
     "text": [
      "False\n"
     ]
    }
   ],
   "source": [
    "import regex as re\n",
    "#([一-龠]|[ぁ-ゔ]|[ァ-ヴー]|[a-zA-Z0-9]|[ａ-ｚＡ-Ｚ０-９]|[々〆〤])+(】)\n",
    "input = \"【龠】\" #[\\p{Hiragana}\\p{Katakana}\\p{Han}]|[^\\p{Han}]\n",
    "print(True if re.search(\"(【)(([\\p{Hiragana}\\p{Katakana}\\p{Han}]*[\\p{Hiragana}\\p{Katakana}]+[\\p{Hiragana}\\p{Katakana}\\p{Han}]*)|[a-zA-Z0-9]|[ａ-ｚＡ-Ｚ０-９])+(】)\", input) != None else False)  # Prints: sdf344asfasf(天地方益)3(権)sdfsdf"
   ]
  },
  {
   "cell_type": "code",
   "execution_count": null,
   "id": "5ec62f81",
   "metadata": {},
   "outputs": [
    {
     "data": {
      "text/plain": [
       "True"
      ]
     },
     "execution_count": 135,
     "metadata": {},
     "output_type": "execute_result"
    }
   ],
   "source": [
    "#Check is string\n",
    "def isCJK(s, **kwargs):\n",
    "    if kwargs.get(\"mode\", None) == \"HiraKataOnly\":\n",
    "        return True if regex.search(\"([\\p{Hiragana}\\p{Katakana}])+\", input) != None else False\n",
    "    return True if regex.search(\"([\\p{Hiragana}\\p{Katakana}\\p{Han}])+\", input) != None else False\n",
    "\n",
    "isJapanese(\"Aafds sdaf  sdf\")"
   ]
  },
  {
   "cell_type": "code",
   "execution_count": null,
   "id": "f87ab770",
   "metadata": {},
   "outputs": [
    {
     "name": "stdout",
     "output_type": "stream",
     "text": [
      "[]\n",
      "False\n"
     ]
    }
   ],
   "source": [
    "\n",
    "import re\n",
    "\n",
    "string = \"【アニメｓ jp】\"\n",
    "#string = \"fasdf\"\n",
    "\n",
    "#【アニメｓ jp】\n",
    "  \n",
    "# \\(.*?\\) ==> it is a regular expression for finding\n",
    "# the pattern for brackets containing some content\n",
    "string = re.sub(\"【.*?】\",\"d\",string)\n",
    "#print(string)\n",
    "\n",
    "regex.search(\"[\\p{Hiragana}\\p{Katakana}]\", string)\n",
    "\n",
    "print(regex.findall(\"(【)+([ぁ-ゔ]|[ァ-ヴー]|[々〆〤])\", string))\n",
    "print(True if (len(regex.findall(\"[ぁ-ゔ]|[ァ-ヴー]\", string)) > 0) else False)"
   ]
  },
  {
   "cell_type": "code",
   "execution_count": null,
   "metadata": {},
   "outputs": [
    {
     "ename": "NameError",
     "evalue": "name 'Pattern' is not defined",
     "output_type": "error",
     "traceback": [
      "\u001b[1;31m---------------------------------------------------------------------------\u001b[0m",
      "\u001b[1;31mNameError\u001b[0m                                 Traceback (most recent call last)",
      "\u001b[1;32m~\\AppData\\Local\\Temp/ipykernel_12992/3264696992.py\u001b[0m in \u001b[0;36m<module>\u001b[1;34m\u001b[0m\n\u001b[0;32m      1\u001b[0m \u001b[0mmessage\u001b[0m \u001b[1;33m=\u001b[0m \u001b[1;34m'EnglishLetters - みずずほダイレクト'\u001b[0m\u001b[1;33m\u001b[0m\u001b[1;33m\u001b[0m\u001b[0m\n\u001b[0;32m      2\u001b[0m \u001b[0mreg\u001b[0m \u001b[1;33m=\u001b[0m \u001b[1;34m\"([\\p{Hiragana}\\p{Katakana}])+\"\u001b[0m\u001b[1;33m\u001b[0m\u001b[1;33m\u001b[0m\u001b[0m\n\u001b[1;32m----> 3\u001b[1;33m \u001b[0mregexPattern\u001b[0m \u001b[1;33m=\u001b[0m \u001b[0mPattern\u001b[0m\u001b[1;33m.\u001b[0m\u001b[0mcompile\u001b[0m\u001b[1;33m(\u001b[0m\u001b[0mreg\u001b[0m\u001b[1;33m)\u001b[0m\u001b[1;33m\u001b[0m\u001b[1;33m\u001b[0m\u001b[0m\n\u001b[0m\u001b[0;32m      4\u001b[0m \u001b[0mregexMatcher\u001b[0m \u001b[1;33m=\u001b[0m \u001b[0mregexPattern\u001b[0m\u001b[1;33m.\u001b[0m\u001b[0mmatcher\u001b[0m\u001b[1;33m(\u001b[0m\u001b[0mmessage\u001b[0m\u001b[1;33m)\u001b[0m\u001b[1;33m\u001b[0m\u001b[1;33m\u001b[0m\u001b[0m\n",
      "\u001b[1;31mNameError\u001b[0m: name 'Pattern' is not defined"
     ]
    }
   ],
   "source": [
    "message = 'EnglishLetters - みずずほダイレクト'\n",
    "reg = \"([\\p{Hiragana}\\p{Katakana}])+\"\n",
    "regexPattern = Pattern.compile(reg)\n",
    "regexMatcher = regexPattern.matcher(message)"
   ]
  },
  {
   "cell_type": "code",
   "execution_count": null,
   "id": "9dea32dc",
   "metadata": {},
   "outputs": [],
   "source": [
    "#TEST CODE BELLOW"
   ]
  },
  {
   "cell_type": "code",
   "execution_count": null,
   "id": "a543dc4f",
   "metadata": {},
   "outputs": [],
   "source": []
  },
  {
   "cell_type": "code",
   "execution_count": null,
   "id": "69c1ea39",
   "metadata": {},
   "outputs": [],
   "source": []
  },
  {
   "cell_type": "code",
   "execution_count": null,
   "id": "c068332d",
   "metadata": {},
   "outputs": [
    {
     "name": "stdout",
     "output_type": "stream",
     "text": [
      "A prefix will temporarly be prepended to file names used before renaming them. This prefix will be removed at the end of script. This is to prevent conflict during renaming\n",
      "Prefix: asdf\n",
      "File Path: C:\\Users\\Rayha\\Desktop\\Voice Dramas - Copy\n",
      "461\n",
      "1\n",
      "234\n",
      "234\n",
      "468\n",
      "1 DRAMA CD vol5.mp3\n",
      "2 SERVANT x SERVICE x WORKING!! ドラマCD.mp3\n",
      "3 【のうりん】 ドラマCD 【アニメ‘ｓ jp】.mp3\n",
      "4 【ドラマＣＤ】【作業用】俺の彼女と幼なじみが修羅場すぎる 間島淳司 豊崎愛生 斉藤千和.mp3\n",
      "5 【ドラマＣＤ】【作業用】食戟のソーマ１１巻 同梱 松岡禎丞 種田利沙高橋未奈美.mp3\n",
      "6 【作業用BGM】中二病でも恋がしたいドラマCD集.mp3\n",
      "7 【熟肉】龙王的工作！第十一卷广播剧Drama CD.mp3\n",
      "8 えむえむっ! ドラマCD「えむびよりっ!」.mp3\n",
      "9 お宝音声？【百人一首】田中理恵の百人一首.mp3\n",
      "10 はたらく魔王さま! ドラマCD『 魔王、捨て猫を拾う』.mp3\n",
      "11 ドラマCD らき☆すた + ドラマがコンプリートなディスク + 萌えドリル + 真・らき☆すた 萌えドリル.mp3\n",
      "12 凪のあすから ドラマCD.mp3\n",
      "13 バカとテストと召喚獣 ドラマCD「僕と黒子と如月グランドパーク」 (2).mp3\n",
      "14 バカとテストと召喚獣 ドラマCD「僕と黒子と如月グランドパーク」.mp3\n",
      "15 特装版 バカとテストと召喚獣11 特典ドラマCD.mp3\n",
      "16 Tomorrow Night's Pixie Arc - We Never Learn BOKUBEN Part 1.mp3\n",
      "17 Tomorrow Night's Pixie Arc - We Never Learn BOKUBEN Part 2.mp3\n",
      "18 Tomorrow Night's Pixie Arc - We Never Learn BOKUBEN Part 3.mp3\n",
      "19 Tomorrow Night's Pixie Arc - We Never Learn BOKUBEN Part 4.mp3\n",
      "20 Tomorrow Night's Pixie Arc - We Never Learn BOKUBEN Part 5.mp3\n",
      "21 Tomorrow Night's Pixie Arc - We Never Learn BOKUBEN Part 6.mp3\n",
      "22 Tomorrow Night's Pixie Arc - We Never Learn BOKUBEN Part 7 (Final).mp3\n",
      "23 Arc Sleeping Beauty of the Literary Forest Part 8 (Final).mp3\n",
      "24 Fumino Furuhashi Route preview.mp3\n",
      "25 Sleeping Beauty of the Literary Forest Arc Part 1.mp3\n",
      "26 Sleeping Beauty of the Literary Forest Arc Part 2.mp3\n",
      "27 Sleeping Beauty of the Literary Forest Arc Part 3.mp3\n",
      "28 Sleeping Beauty of the Literary Forest Arc Part 4.mp3\n",
      "29 Sleeping Beauty of the Literary Forest Arc Part 5.mp3\n",
      "30 Sleeping Beauty of the Literary Forest Arc Part 6.mp3\n",
      "31 Sleeping Beauty of the Literary Forest Arc Part 7.mp3\n",
      "32 The Queen of Thin Ice Arc - We Never Learn BOKUBEN Part 1.mp3\n",
      "33 The Queen of Thin Ice Arc - We Never Learn BOKUBEN Part 10.mp3\n",
      "34 The Queen of Thin Ice Arc - We Never Learn BOKUBEN Part 11.mp3\n",
      "35 The Queen of Thin Ice Arc - We Never Learn BOKUBEN Part 12 (Final).mp3\n",
      "36 The Queen of Thin Ice Arc - We Never Learn BOKUBEN Part 2.mp3\n",
      "37 The Queen of Thin Ice Arc - We Never Learn BOKUBEN Part 3.mp3\n",
      "38 The Queen of Thin Ice Arc - We Never Learn BOKUBEN Part 4.mp3\n",
      "39 The Queen of Thin Ice Arc - We Never Learn BOKUBEN Part 5.mp3\n",
      "40 The Queen of Thin Ice Arc - We Never Learn BOKUBEN Part 6.mp3\n",
      "41 The Queen of Thin Ice Arc - We Never Learn BOKUBEN Part 7.mp3\n",
      "42 The Queen of Thin Ice Arc - We Never Learn BOKUBEN Part 8.mp3\n",
      "43 The Queen of Thin Ice Arc - We Never Learn BOKUBEN Part 9.mp3\n",
      "44 Thumbelina Supercomputer Arc Part 1.mp3\n",
      "45 Thumbelina Supercomputer Arc Part 2.mp3\n",
      "46 Thumbelina Supercomputer Arc Part 3.mp3\n",
      "47 Thumbelina Supercomputer Arc Part 4.mp3\n",
      "48 Thumbelina Supercomputer Arc Part 5.mp3\n",
      "49 Thumbelina Supercomputer Arc Part 6.mp3\n",
      "50 Thumbelina Supercomputer Arc Part 7 (Final).mp3\n",
      "51 Thumbelina Supercomputer Arc Preview.mp3\n",
      "52 CLANNAD Official Another Story1 P1.mp3\n",
      "53 CLANNAD Official Another Story1 P2.mp3\n",
      "54 CLANNAD Official Another Story1 P3.mp3\n",
      "55 CLANNAD Official Another Story1 P4.mp3\n",
      "56 CLANNAD Official Another Story2 P1.mp3\n",
      "57 CLANNAD Official Another Story2 P2.mp3\n",
      "58 CLANNAD Official Another Story2 P3.mp3\n",
      "59 CLANNAD Official Another Story2 P4.mp3\n",
      "60 CLANNAD Official Another Story3 P1.mp3\n",
      "61 CLANNAD Official Another Story3 P2.mp3\n",
      "62 CLANNAD Official Another Story3 P3.mp3\n",
      "63 CLANNAD Official Another Story3 P4.mp3\n",
      "64 CLANNAD Official Another Story3 P5.mp3\n",
      "65 DRAMA CD clannad vol1 P1.mp3\n",
      "66 DRAMA CD clannad vol1 P2.mp3\n",
      "67 DRAMA CD clannad vol1 P3.mp3\n",
      "68 DRAMA CD clannad vol1 P4.mp3\n",
      "69 DRAMA CD clannad vol1 P5.mp3\n",
      "70 DRAMA CD clannad vol1 P6.mp3\n",
      "71 DRAMA CD clannad vol1 P7.mp3\n",
      "72 DRAMA CD clannad vol1 P8.mp3\n",
      "73 DRAMA CD clannad vol1 P9.mp3\n",
      "74 Kyou Fujibayashi CD drama yandere (part 1).mp3\n",
      "75 Kyou Fujibayashi CD drama yandere (part 2).mp3\n",
      "76 03 - Eromanga Sensei Kakeru Ore no Imouto ga Konnani Kawaii Wake ga Nai Koraboreeshon dorama CD zenp.mp3\n",
      "77 オーディオドラマ「和泉マサムネの休日 ムラマサ編」.mp3\n",
      "78 俺妹× マンガ先生 コラボレーションドラマCD前編.mp3\n",
      "79 俺妹× マンガ先生 コラボレーションドラマCD後編.mp3\n",
      "80 Aki - 「ビジュアルドラマ」月刊少女野崎君 秋篇.mp3\n",
      "81 Fuyu - 「ビジュアルドラマ」月刊少女野崎君 冬篇.mp3\n",
      "82 01 プロローグ.mp3\n",
      "83 02 第一話　ベタ担当・佐倉千代.mp3\n",
      "84 03 幕間　瀬尾結月.mp3\n",
      "85 04 第二話　お花担当・御子柴実琴.mp3\n",
      "86 05 幕間　鹿島　遊.mp3\n",
      "87 06 第三話　背景担当・堀　政行.mp3\n",
      "88 07 おまけ.mp3\n",
      "89 08 第四話　トーン担当・若松博隆.mp3\n",
      "90 09 エピローグ.mp3\n",
      "91 desktop.ini\n",
      "92 【中字】一花的特典ドラマCD 一花的假日.mp3\n",
      "93 【中字】三玖的特典ドラマCD 三玖的勇气.mp3\n",
      "94 【中字】二乃的特典ドラマCD Nino的学习会.mp3\n",
      "95 【中字】五月的特典ドラマCD 五月的调味秘方.mp3\n",
      "96 【中字】四叶的特典ドラマCD 四叶的青空培训班.mp3\n",
      "97 はめふらX Blu-ray vol.1 特典ドラマCD試聴動画【乙女ゲームの破滅フラグしかない悪役令嬢に転生してしまった…X】.mp3\n",
      "98 はめふらX vol.2 ドラマCD試聴動画.mp3\n",
      "99 はめふらX vol.3 ドラマCD試聴動画..mp3\n",
      "100 はめふらX vol.4 ドラマCD試聴動画 はめふらX vol.4 ドラマCD試聴動画.mp3\n",
      "101 Haruhi Suzumiya  Drama CD - Sound Around  Epilogue ~Omatsuri Sawagi wa Mada Mada Kore Kara~.mp3\n",
      "102 Haruhi Suzumiya  Drama CD - Sound Around  Hi Busshitsu Kakusansei Shindou Kata Kanchi Onpa.mp3\n",
      "103 The Melancholy of Haruhi Suzumiya  Drama CD - Sound Around  After Live A Live.mp3\n",
      "104 The Melancholy of Haruhi Suzumiya  Drama CD - Sound Around  First Good-Bye.mp3\n",
      "105 The Melancholy of Haruhi Suzumiya  Drama CD - Sound Around  Haruhi Hensoukyoku  PART ONE.mp3\n",
      "106 The Melancholy of Haruhi Suzumiya  Drama CD - Sound Around  Haruhi Hensoukyoku  PART TWO.mp3\n",
      "107 The Melancholy of Haruhi Suzumiya  Drama CD - Sound Around  Prologue ~Suzumiya Haruhi no Aisatsu.mp3\n",
      "108 The Melancholy of Haruhi Suzumiya  Drama CD - Sound Around  Sundae At Heavy Metal SOS Dan.mp3\n",
      "109 The Melancholy of Haruhi Suzumiya  Drama CD - Sound Around  The Audition.mp3\n",
      "110 The Melancholy of Haruhi Suzumiya  Drama CD - Sound Around  Voice no Chaos.mp3\n",
      "111 The Melancholy of Haruhi Suzumiya  Drama CD - Sound Around  VS Sound Worm  (Meimei, Ore).mp3\n",
      "112 Higurashi Kai Character Case Book Vol. 1 Drama CD (REMAKE).mp3\n",
      "113 Meakashi-hen Drama CD Mion's Tears.mp3\n",
      "114 Meakashi-hen Drama CD Satoko's Strength.mp3\n",
      "115 Meakashi-hen Drama CD “Condemnation”.mp3\n",
      "116 Onikakushi-hen Drama CD Disc 1 Part 3.mp3\n",
      "117 Onikakushi-hen Drama CD Disc 1 Part 4.mp3\n",
      "118 Onikakushi-hen Drama CD Disc 1 Part 5.mp3\n",
      "119 Onikakushi-hen Drama CD Disc 1 Part 6.mp3\n",
      "120 Tsumihoroboshi-hen Drama CD  Oyashiro-sama.mp3\n",
      "121 【ドラマＣＤ】【作業用】妹さえいればいい。「ラノベ作家の人生」小 林裕介 山本希望 金元寿子.mp3\n",
      "122 【ドラマＣＤ】【作業用】妹さえいればいい。「妹のためのメルヒ ェン」小林裕介 山本希望 加隈亜衣.mp3\n",
      "123 Minasesanchi Akiko-san no Asa-Gohan CD Part I 1 3.mp3\n",
      "124 Minasesanchi Akiko-san no Asa-Gohan CD Part I 2 3.mp3\n",
      "125 Minasesanchi Akiko-san no Asa-Gohan CD Part I 3 3.mp3\n",
      "126 月宮あゆストーリー (1) - 冬の雨、終わらない夢。.mp3\n",
      "127 月宮あゆストーリー (10) - カノン.mp3\n",
      "128 月宮あゆストーリー (2) - 再会、白い羽の少女、約束。.mp3\n",
      "129 月宮あゆストーリー (3) - 大事な探し物、幸せの記憶、待ち合わせ。.mp3\n",
      "130 月宮あゆストーリー (4) - 凍る時間、七年前の出来事。.mp3\n",
      "131 月宮あゆストーリー (5) - 大切なひと、家族ということ。.mp3\n",
      "132 月宮あゆストーリー (6) - 変わらない気持ち、かけがえのない瞬間。.mp3\n",
      "133 月宮あゆストーリー (7) - ふたりだけの学校、動き出す時間。.mp3\n",
      "134 月宮あゆストーリー (8) - 雪。.mp3\n",
      "135 月宮あゆストーリー (9) - お願い。.mp3\n",
      "136 川澄舞ストーリー (1) - 深夜の校舎、二人の少女、不器用な優しさ。.mp3\n",
      "137 川澄舞ストーリー (2) - 舞踏会、親友、失いたくないもの。.mp3\n",
      "138 川澄舞ストーリー (3) - 最後の戦い、麦畑、夢。.mp3\n",
      "139 川澄舞ストーリー (4) - 雪。.mp3\n",
      "140 川澄舞ストーリー (5) - 旅立ち。.mp3\n",
      "141 沢渡真琴ストーリー (1) - 名前の無い気持ち、そしてよくある昔話。.mp3\n",
      "142 沢渡真琴ストーリー (10) - 予感。.mp3\n",
      "143 沢渡真琴ストーリー (2) - 記憶喪失の少女、名前、昔感じた気持ちに似ている。.mp3\n",
      "144 沢渡真琴ストーリー (3) - 日常、歩道橋、捨てられる子猫。.mp3\n",
      "145 沢渡真琴ストーリー (4) - 居なくなった真琴、ものみの丘、家族であること。.mp3\n",
      "146 沢渡真琴ストーリー (5) - 祐一の記憶、沢渡真琴という名前、再びものみの丘。.mp3\n",
      "147 沢渡真琴ストーリー (6) - 思い出されたもの、奇跡、一瞬の煌き。.mp3\n",
      "148 沢渡真琴ストーリー (7) - 失われていくもの、鈴の音。.mp3\n",
      "149 沢渡真琴ストーリー (8) - 家族ということ、冬の花火。.mp3\n",
      "150 沢渡真琴ストーリー (9) - 雪。.mp3\n",
      "151 水瀬名雪ストーリー (1) - ずっと言えなかったこと、再会、わたしの名前。.mp3\n",
      "152 水瀬名雪ストーリー (2) - 新しい家族、閉ざされた想い出、白い羽の少女。.mp3\n",
      "153 水瀬名雪ストーリー (3) - 小さな贈り物、大事な探し物、わたしにできること。.mp3\n",
      "154 水瀬名雪ストーリー (4) - 最後の冬、開かれる記憶の扉。.mp3\n",
      "155 水瀬名雪ストーリー (5) - 雪ウサギ、約束した場所、変わらない気持ち。.mp3\n",
      "156 水瀬名雪ストーリー (6) - 雪。.mp3\n",
      "157 水瀬名雪ストーリー (7) - お願い。.mp3\n",
      "158 水瀬名雪ストーリー (8) - 遅い春。.mp3\n",
      "159 美坂栞ストーリー (1) - 笑顔ということ、ありがちな物語。.mp3\n",
      "160 美坂栞ストーリー (2) - 再会、冬の約束、白い羽の少女。.mp3\n",
      "161 美坂栞ストーリー (3) - 憧れ、零れ落ちてゆくもの。.mp3\n",
      "162 美坂栞ストーリー (5) - お気に入りの場所、同じ景色、舞踏会。.mp3\n",
      "163 美坂栞ストーリー (6) - 紡がれない言葉、友達、姉妹ということ。.mp3\n",
      "164 美坂栞ストーリー (7) - 雪。.mp3\n",
      "165 美坂栞ストーリー (8) - お願い。.mp3\n",
      "166 美坂栞ストーリー (9) - 夢の季節。.mp3\n",
      "167 未確認で進行形 11巻特典 ドラマCD.mp3\n",
      "168 未確認で進行形 ドラマCD 「つまり転ばないように乗ればいんですね」.mp3\n",
      "169 未確認で進行形 ドラマCD「媚茶ですが…」.mp3\n",
      "170 [한글번역] 나츠메 우인장 드라마cd 나츠메 문화제에 참가하다.mp3\n",
      "171 [한글번역] 나츠메 우인장 오리지날 드라마cd 너 떠나간 후에.mp3\n",
      "172 [한글자막] 나츠메 우인장 사운드 시어터 라이브 이벤트 part1.mp3\n",
      "173 [한글자막] 나츠메 우인장 사운드 시어터 라이브 이벤트 part2.mp3\n",
      "174 [한글자막] 나츠메 우인장 사운드 시어터 라이브 이벤트 part3.mp3\n",
      "175 [한글자막] 나츠메우인장 드라마cd 나토리 예능장.mp3\n",
      "176 【夏目友人帳】 ドラマCD ２編まとめ！ 【アニメ‘ｓ jp】.mp3\n",
      "177 【ドラマCD風】ニューゲーム！！ 「メイド喫茶がいいと言ったんだよ（歓迎会） , 他」.mp3\n",
      "178 【ドラマCD風】ニューゲーム！！「おつかい、初任給」.mp3\n",
      "179 【ドラマＣＤ】【作業用】ニセコイ同梱第9巻 内山昴輝 東山奈央.mp3\n",
      "180 【ニセコイ】 ドラマCD ３編まとめ！ 【アニメ‘ｓ jp】.mp3\n",
      "181 Onikakushi-hen Drama CD Disc 1 Parts 1-2.mp3\n",
      "182 Oregairu Volume 3 Drama CD - Track 1 [ENG SUB].mp3\n",
      "183 Oregairu Volume 3 Drama CD - Track 2 [ENG SUB].mp3\n",
      "184 Oregairu Volume 3 Drama CD - Track 4 [ENG SUB].mp3\n",
      "185 Oregairu Volume 3 Drama CD Track 3 ENG SUB.mp3\n",
      "186 Oregairu Volume 7.5 Bonus Track Hikigaya Komachi's Tactics Scene 1 (English Subbed).mp3\n",
      "187 Oregairu Volume 7.5 Bonus Track Hikigaya Komachi's Tactics Scene 2 (English Subbed).mp3\n",
      "188 Yahari Ore no Seishun Love Comedy wa Machigatteiru (Oregairu) Volume 6.5 Bonus Track (English Sub).mp3\n",
      "189 Yahari Ore no Seishun Love Comedy wa Machigatteiru (Oregairu) Volume 7 Bonus Track (English Sub).mp3\n",
      "190 PriconneR - Character Song 12 Drama CD [English Sub].mp3\n",
      "191 サウンドドラマ プリンセスコネクト! ReDive PRICONNE CHARACTER SONG11・12・14・15のドラマまとめ.mp3\n",
      "192 サウンドドラマ プリンセスコネクト! ReDive PRICONNE CHARACTER SONG1～5のドラマまとめ.mp3\n",
      "193 サウンドドラマ プリンセスコネクト! ReDive PRICONNE CHARACTER SONG6～10のドラマまとめ.mp3\n",
      "194 【渣翻 广播剧】「ReLIFE 重生计划」Drama CD 1.传闻中的新药 其一~海崎 变多了哦~ (2).mp3\n",
      "195 【渣翻 广播剧】「ReLIFE 重生计划」Drama CD 10.传闻中的新药 其二~海崎 嚎啕大哭了喔~.mp3\n",
      "196 【渣翻 广播剧】「ReLIFE 重生计划」Drama CD 11.传闻中的新药 其二~海崎 嚎啕大哭了喔~.mp3\n",
      "197 【渣翻 广播剧】「ReLIFE 重生计划」Drama CD 12.传闻中的新药 其二~海崎 嚎啕大哭了喔~.mp3\n",
      "198 【渣翻 广播剧】「ReLIFE 重生计划」Drama CD 13.传闻中的新药 其二~海崎 嚎啕大哭了喔~.mp3\n",
      "199 【渣翻 广播剧】「ReLIFE 重生计划」Drama CD 14.传闻中的新药 其二~海崎 嚎啕大哭了喔~.mp3\n",
      "200 【渣翻 广播剧】「ReLIFE 重生计划」Drama CD 2.传闻中的新药 其二~海崎 嚎啕大哭了喔~.mp3\n",
      "201 【渣翻 广播剧】「ReLIFE 重生计划」Drama CD 3.传闻中的新药 其二~海崎 嚎啕大哭了喔~.mp3\n",
      "202 【渣翻 广播剧】「ReLIFE 重生计划」Drama CD 4.传闻中的新药 其二~海崎 嚎啕大哭了喔~.mp3\n",
      "203 【渣翻 广播剧】「ReLIFE 重生计划」Drama CD 5.传闻中的新药 其二~海崎 嚎啕大哭了喔~.mp3\n",
      "204 【渣翻 广播剧】「ReLIFE 重生计划」Drama CD 6.传闻中的新药 其二~海崎 嚎啕大哭了喔~.mp3\n",
      "205 【渣翻 广播剧】「ReLIFE 重生计划」Drama CD 7.传闻中的新药 其二~海崎 嚎啕大哭了喔~.mp3\n",
      "206 【渣翻 广播剧】「ReLIFE 重生计划」Drama CD 8.传闻中的新药 其二~海崎 嚎啕大哭了喔~.mp3\n",
      "207 【渣翻 广播剧】「ReLIFE 重生计划」Drama CD 9.传闻中的新药 其二~海崎 嚎啕大哭了喔~.mp3\n",
      "208 Sakurasou Drama CD Part 1.mp3\n",
      "209 Sakurasou Drama CD Part 2.mp3\n",
      "210 Sakurasou no Pet na Kanojo Drama CD Part 3「さくら荘のペットな彼女,」 (2).mp3\n",
      "211 Sakurasou no Pet na Kanojo Drama CD Part 3「さくら荘のペットな彼女,」 (3).mp3\n",
      "212 Sakurasou no Pet na Kanojo Drama CD Part 3「さくら荘のペットな彼女,」 (4).mp3\n",
      "213 Sakurasou no Pet na Kanojo Drama CD Part 3「さくら荘のペットな彼女,」 (5).mp3\n",
      "214 Sakurasou no Pet na Kanojo Drama CD Part 3「さくら荘のペットな彼女,」 (6).mp3\n",
      "215 Sakurasou no Pet na Kanojo Drama CD Part 3「さくら荘のペットな彼女,」 (7).mp3\n",
      "216 Sakurasou no Pet na Kanojo Drama CD Part 3「さくら荘のペットな彼女,」.mp3\n",
      "217 Sakurasou no Pet na Kanojo Drama CD Part 8「さくら荘のペットな彼女」 (2).mp3\n",
      "218 Sakurasou no Pet na Kanojo Drama CD Part 8「さくら荘のペットな彼女」 (3).mp3\n",
      "219 Sakurasou no Pet na Kanojo Drama CD Part 8「さくら荘のペットな彼女」.mp3\n",
      "220 Sakura Sou Ex 1.mp3\n",
      "221 Sakura Sou Ex 2.mp3\n",
      "222 Sakura Sou Ex 3.mp3\n",
      "223 Sakura Sou Ex 4.mp3\n",
      "224 Takagi-san Drama CD 1 - “Tamagoyaki” (Eng Sub).mp3\n",
      "225 Tate No Yuusha No Nariagari   盾の勇者の成り上がりDrama CD Vol 14.5 Part 1 ENG SUB.mp3\n",
      "226 Tate No Yuusha No Nariagari Drama CD   盾の勇者の成り上がり ドラマcd   Vol 14.5 Part 2 FINAL ENG SUB.mp3\n",
      "227 Yari no Yuusha No Yarinaoshi Drama CD.mp3\n",
      "228 Working!! - Animate Store Exclusive Drama CD (Full Version English Subtitled).mp3\n",
      "229 Working!!猫組 サイドA and B.mp3\n",
      "230 WORKING!.mp3\n",
      "231 【WORKING’!!】 ドラマCD ４編 まとめ！ 【アニメ‘ｓ jp】.mp3\n",
      "232 Yandere Kanojo Drama CD part 1.mp3\n",
      "233 Yandere Kanojo Drama CD part 2.mp3\n",
      "234 Yandere Kanojo Drama CD Part 3.mp3\n"
     ]
    }
   ],
   "source": [
    "#!pip install googletrans==4.0.0-rc1\n",
    "import os\n",
    "from googletrans import Translator\n",
    "import re\n",
    "\n",
    "translator = Translator()\n",
    "\n",
    "forbiddenChars = \"<>:\\\"/\\\\|?*\"\n",
    "print(\"A prefix will temporarly be prepended to file names used before renaming them. This prefix will be removed at the end of script. This is to prevent conflict during renaming\")\n",
    "prefix = input(\"Prefix: \")\n",
    "while any(c in forbiddenChars for c in prefix) or prefix == \"\":\n",
    "    print(\"The Prefix Contains One Of More Forbidden Characters {{ \" + \"<>:\\\"/\\\\|?*\" + \" }}\")\n",
    "    prefix = input(\"Please Select A Different Prefix: \")\n",
    "\n",
    "path = input(\"File Path: \")\n",
    "while \"\\\\\" not in path and \":\\\\Users\" not in path and os.path.isdir(path):\n",
    "    print(\"File Path Invalid\")\n",
    "    path = input(\"Please Select A Different File Path: \")\n",
    "    \n",
    "if path.split(\"\\\\\")[-1] == \"\" or \".\" in path.split(\"\\\\\")[-1]:\n",
    "    path = path.rsplit(\"\\\\\", 1)[0]\n",
    "\n",
    "duplicatePaths = True\n",
    "while duplicatePaths:\n",
    "    duplicatePaths = False\n",
    "\n",
    "    fullFilePaths = []\n",
    "    fullFilePaths_trans = []\n",
    "    fullFilePaths_trans_pre = []\n",
    "    splitFilePaths_trans_pre = []\n",
    "    test = []\n",
    "    \n",
    "    textToTrasnlateChunks = []\n",
    "    textToTrasnlate = \"\"\n",
    "    translatedText = \"\"\n",
    "    \n",
    "    #cnt = 0\n",
    "    pretrans = \"\"\n",
    "    for root, directories, files in os.walk(path):\n",
    "        for file in files:\n",
    "            #cnt += 1\n",
    "            if len(textToTrasnlate) >= 3000:\n",
    "                textToTrasnlateChunks.append(textToTrasnlate)\n",
    "                textToTrasnlate = \"\"\n",
    "                \n",
    "            textToTrasnlate += file.rsplit(\".\", 1)[0] + os.linesep\n",
    "            \n",
    "            test.append(file)\n",
    "            fullFilePaths.append(os.path.join(root, file))\n",
    "            fullFilePaths_trans.append(root)\n",
    "            fullFilePaths_trans_pre.append(root)\n",
    "            \n",
    "    textToTrasnlateChunks.append(textToTrasnlate.rsplit(os.linesep, 1)[0])\n",
    "    textToTrasnlate = \"\"\n",
    "    \n",
    "    for chunk in textToTrasnlateChunks:\n",
    "        pretrans += chunk\n",
    "        translatedText += translator.translate(chunk, src='zh-cn', dest='en').text\n",
    "        #translatedText = translator.translate(translatedText, src='ko', dest='en').text\n",
    "        #translatedText = translator.translate(translatedText, src='zh-tw', dest='en').text\n",
    "        #translatedText = translator.translate(translatedText, src='zh-cn', dest='en').text\n",
    "    \n",
    "    \n",
    "    print(len(translatedText.split(os.linesep)))\n",
    "    print(len(textToTrasnlate.split(os.linesep)))\n",
    "    print(len(fullFilePaths_trans))\n",
    "    print(len(fullFilePaths_trans_pre))\n",
    "    print(len(pretrans.split(os.linesep)))\n",
    "    #print(cnt)\n",
    "    \n",
    "    i = 0\n",
    "    for line in test:\n",
    "        i += 1\n",
    "        #improvement - make sure only mp3 files are selected\n",
    "        print(i, end=' ')\n",
    "        print(line)"
   ]
  },
  {
   "cell_type": "code",
   "execution_count": null,
   "id": "a87da3f0",
   "metadata": {},
   "outputs": [],
   "source": [
    "C:\\Users\\Rayha\\Desktop\\Voice Dramas - Copy"
   ]
  },
  {
   "cell_type": "code",
   "execution_count": null,
   "id": "820d6492",
   "metadata": {},
   "outputs": [
    {
     "name": "stdout",
     "output_type": "stream",
     "text": [
      "True\n"
     ]
    }
   ],
   "source": [
    "from unidecode import unidecode\n",
    "\n",
    "#checks if a string is fully english\n",
    "def isEnglish(s):\n",
    "    try:\n",
    "        s.encode(encoding='utf-8').decode('ascii')\n",
    "    except UnicodeDecodeError:\n",
    "        return False\n",
    "    else:\n",
    "        return True\n",
    "    \n",
    "print(isEnglish(\"SERVANT x SERVICE x WORKING!! CD\"))"
   ]
  },
  {
   "cell_type": "code",
   "execution_count": null,
   "id": "d7b9bc23",
   "metadata": {},
   "outputs": [],
   "source": []
  }
 ],
 "metadata": {
  "kernelspec": {
   "display_name": "Python 3 (ipykernel)",
   "language": "python",
   "name": "python3"
  },
  "language_info": {
   "codemirror_mode": {
    "name": "ipython",
    "version": 3
   },
   "file_extension": ".py",
   "mimetype": "text/x-python",
   "name": "python",
   "nbconvert_exporter": "python",
   "pygments_lexer": "ipython3",
   "version": "3.9.5"
  }
 },
 "nbformat": 4,
 "nbformat_minor": 5
}
